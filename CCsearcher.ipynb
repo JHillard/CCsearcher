# CCsearcher
# Searches Soundcloud and only returns CC licensed music


{
 "cells": [
  {
   "cell_type": "code",
   "execution_count": 1,
   "metadata": {
    "collapsed": true
   },
   "outputs": [],
   "source": [
    "clientID =  'Nope'\n",
    "clientSecret = 'Also Nope'\n",
    "RedirectURI = 'http://127.0.0.1:65010/authorize_callback'"
   ]
  },
  {
   "cell_type": "code",
   "execution_count": 2,
   "metadata": {
    "collapsed": false
   },
   "outputs": [],
   "source": [
    "import html\n",
    "import http.server as lhttps\n",
    "import socketserver\n",
    "import soundcloud\n",
    "from pprint import pprint\n",
    "import IPython\n",
    "import socket\n",
    "import threading\n",
    "import time\n",
    "keyFile = \"access.key\"\n",
    "requestLine = \"\"\n",
    "client = soundcloud.Client(client_id= clientID,\n",
    "                           client_secret=clientSecret,\n",
    "                           redirect_uri=RedirectURI)\n"
   ]
  },
  {
   "cell_type": "code",
   "execution_count": 3,
   "metadata": {
    "collapsed": false
   },
   "outputs": [],
   "source": [
    "class callbackserver(socketserver.TCPServer):\n",
    "    def __init__(self):\n",
    "        super(callbackserver,self).__init__(('',65010),self.CallbackRequestHandler)\n",
    "    class CallbackRequestHandler(lhttps.BaseHTTPRequestHandler):\n",
    "        def do_GET(self):\n",
    "            global requestLine\n",
    "            requestLine = self.requestline\n"
   ]
  },
  {
   "cell_type": "code",
   "execution_count": 4,
   "metadata": {
    "collapsed": false,
    "scrolled": true
   },
   "outputs": [],
   "source": [
    "def promptAuth():\n",
    "    global client #Allows promptAuth() to interact with our client object referenced later.\n",
    "    try:#Attempts to read a locally stored key. Saves the trouble of authenticating if you already have before.\n",
    "        f = open(keyFile, \"r\")\n",
    "        accessToken = f.read()\n",
    "        if accessToken is \"\": raise Exception(\"Error: \" + keyFile + \" file corrupted. Please delete\")\n",
    "        client = soundcloud.Client(access_token = accessToken)\n",
    "        f.close()\n",
    "        print( client.get('/me').username + \" auto-authenticated. Compiling stream now... \")        \n",
    "    except: #If it can't auto-authenticate with a read file, it goes manual and then stores it for later use.\n",
    "        c = callbackserver()\n",
    "        auth = threading.Thread(target = c.serve_forever)\n",
    "        auth.start()\n",
    "\n",
    "        \n",
    "        print(client.authorize_url())\n",
    "        print('Waiting to authenticate...')\n",
    "        time.sleep(.3)\n",
    "        while requestLine is \"\":\n",
    "            time.sleep(2)\n",
    "            print(\"waiting...\")\n",
    "        code = extractCode()  \n",
    "        print(\"STAHP: \" + code)\n",
    "        accessToken = client.exchange_token(code).access_token\n",
    "        print(\"\\t\\t ...authenticated.\")\n",
    "        recordToken(accessToken)\n",
    "        print(\"Compiling stream now... \")\n",
    "              \n",
    "def recordToken(aT):\n",
    "    f = open(keyFile, \"w\")\n",
    "    f.write(aT)\n",
    "    f.close()\n",
    "    \n",
    "def extractCode(): #extracts the return code recieved from the auth server.\n",
    "    print(requestLine)\n",
    "    code = requestLine.split(\"=\")[-1].split(\" \")[0]\n",
    "    print(code)\n",
    "    return code"
   ]
  },
  {
   "cell_type": "code",
   "execution_count": null,
   "metadata": {
    "collapsed": true
   },
   "outputs": [],
   "source": []
  },
  {
   "cell_type": "code",
   "execution_count": 5,
   "metadata": {
    "collapsed": false
   },
   "outputs": [],
   "source": [
    "def doAll(): #Performs a graph traversal on your followings and compiles all CC-!nc music into a playlist and\n",
    "            #auto-embeds it. Isn't the future awesome?\n",
    "    try:\n",
    "        trackList = getBiggerStream()\n",
    "        makePlaylist(trackList, playlistName= \"BigStream\")\n",
    "        embedPlaylist(\"BigStream\")\n",
    "    except ServerError:\n",
    "        print(\"500 Server Error, attempting recompile...\")\n",
    "        doAll()\n",
    "    except: raise"
   ]
  },
  {
   "cell_type": "code",
   "execution_count": 6,
   "metadata": {
    "collapsed": false
   },
   "outputs": [],
   "source": [
    "def getCCStream(limit = 10): #Goes through your feed and compiles only CC-!nc music\n",
    "    stream = client.get('me/activities/tracks/affiliated', limit= limit)\n",
    "    trackList = []\n",
    "    for song in stream.collection:\n",
    "        if 'cc' in song.obj['origin']['license'] and not 'nc' in song.obj['origin']['license']:\n",
    "            Id= song.obj['origin']['id']\n",
    "            link= song.obj['origin']['permalink_url']\n",
    "            streamUrl= song.obj['origin']['stream_url']\n",
    "            title= song.obj['origin']['title']\n",
    "            trackList.append([Id,link,streamUrl, title])\n",
    "    return trackList\n",
    "\n",
    "def getArtistCC(artist, limit=10): #Goes through songs posted by an artist and only returns CC-!nc music\n",
    "    tracks = client.get('/tracks', q=artist )#,license='cc')\n",
    "    trackList = []\n",
    "    for song in tracks.data:\n",
    "        if 'cc' in song.obj['license'] and not 'nc' in song.obj['license']:\n",
    "            Id= song.obj['id']\n",
    "            link= song.obj['permalink_url']\n",
    "            streamUrl= song.obj['stream_url'] \n",
    "            title = song.obj['title']\n",
    "            trackList.append([Id,link,streamUrl,title])\n",
    "    return trackList\n",
    "\n",
    "def listUserPlaylists(limit = 10): #lists your playlists. Usefull for looking at PLs in-program\n",
    "    plList = []\n",
    "    playlists = client.get('/me/playlists', limit = limit)\n",
    "    for pl in playlists.data:\n",
    "        print(pl.obj['title'])\n",
    "        plList.append(pl.obj['title'])\n",
    "    return plList\n",
    "\n",
    "def getBiggerStream(limit = 10): #Performs a graph traversal on your followings and compiles all CC-!nc music\n",
    "    trackList = []\n",
    "    count = 0\n",
    "    following = client.get(\"/users/\" + str(client.get('/me').id) + \"/followings\")\n",
    "    for ppl in following.collection:\n",
    "        ppSongs = client.get('/users/' + str(ppl.obj['id']) + \"/tracks\", limit = limit)\n",
    "        artistCount = 0\n",
    "        for song in ppSongs.data:\n",
    "            count = count + 1\n",
    "            if 'cc' in song.obj['license'] and not 'nc' in song.obj['license']:\n",
    "                artistCount = artistCount +1\n",
    "                Id= song.obj['id']\n",
    "                link= song.obj['permalink_url']\n",
    "                streamUrl= song.obj['stream_url'] \n",
    "                title = song.obj['title']\n",
    "                trackList.append([Id,link,streamUrl,title])\n",
    "        print(\"Getting \"+ str(artistCount)+ \" songs from: \" + client.get(\"/users/\" + str(ppl.obj['id'])).obj['username'] )\n",
    "        \n",
    "    print(\"Looked through \" + str(count) + \" songs.\")\n",
    "    return trackList\n",
    "        \n",
    "    \n",
    "def searchCC(limit=10):\n",
    "    None\n",
    "def playTracklist():\n",
    "    None\n",
    "def scrubPublicPlaylists():\n",
    "    None\n",
    "def buildFeed():\n",
    "    None\n",
    "\n",
    "def printPlayVars(): #Prints all the variables present in a playlist. Handy for debug and data access.\n",
    "    userID = client.get('/me').id\n",
    "    playlists = client.get('/users/' + str(userID) + '/playlists')\n",
    "    for pl in playlists:\n",
    "        pprint(vars(pl))\n",
    "        return\n",
    "    \n",
    "def getPlaylistUrl(name): #Given a name of a playlist on your account, Will exctract a URL from it.\n",
    "    userID = client.get('/me').id\n",
    "    playlists = client.get('/users/' + str(userID) + '/playlists')\n",
    "    for pl in playlists:\n",
    "        if pl.obj['title'] == name:\n",
    "            return pl.obj['permalink_url']\n",
    "    raise Exception(\"no Playlist found\")\n",
    "\n",
    "def getPlaylistID(name):#Given a name of a playlist on your account, Will return a unique ID of it.\n",
    "    userID = client.get('/me').id\n",
    "    playlists = client.get('/users/' + str(userID) + '/playlists')\n",
    "    for pl in playlists:\n",
    "        if pl.obj['title'] == name:\n",
    "            return [pl.obj['id'], pl.obj['secret_token']]\n",
    "    raise Exception(\"no Playlist found\")\n",
    "    \n",
    "def makePlaylist(trackList, playlistName = 'CCsearcher', privacy = 'public'): #Given a trackList list, creates a new \n",
    "                        #playlist with those tracks on your account. Defaults to public so you can embedd it.\n",
    "    setList = []\n",
    "    for song in trackList:\n",
    "        setList.append({'id': song[0]})\n",
    "    client.post('/playlists', playlist={\n",
    "        'title': playlistName,\n",
    "        'sharing': privacy,\n",
    "        'tracks': setList  })\n",
    "\n",
    "def delPlaylist(name): #Deletes a playlist from your account given a name. Usefull for programmatically removing\n",
    "            #the 'spam' playlists this script creates.\n",
    "    userID = client.get('/me').id\n",
    "    playlists = client.get('/users/' + str(userID) + '/playlists')\n",
    "    for pl in playlists:\n",
    "        if pl.obj['title'] == name:\n",
    "            blankList = []\n",
    "            client.put(pl.uri, playlist ={ 'tracks' : blankList}) \n",
    "            client.delete(pl.uri)\n",
    "            print('Playlist deleted')\n",
    "            return\n",
    "    raise Exception(\"no Playlist found\")\n",
    "    \n",
    "def getEmbedCode(plUrl): #Gets the embed HTML code for a playlist.\n",
    "    embed_info = client.get('/oembed', url= plUrl, auto_play= True, maxheight = 400)\n",
    "    return embed_info.html\n",
    "\n",
    "def embedPlaylist(name): #Given the HTML code for a playlist, auto embeds it into IPython, making everything nice and clean.\n",
    "    IPython.display.display(IPython.display.HTML(getEmbedCode(getPlaylistUrl(name))))\n"
   ]
  },
  {
   "cell_type": "code",
   "execution_count": 7,
   "metadata": {
    "collapsed": false
   },
   "outputs": [
    {
     "name": "stdout",
     "output_type": "stream",
     "text": [
      "Methods Compiled\n"
     ]
    }
   ],
   "source": [
    "print(\"Methods Compiled\")"
   ]
  },
  {
   "cell_type": "code",
   "execution_count": 8,
   "metadata": {
    "collapsed": false
   },
   "outputs": [
    {
     "name": "stdout",
     "output_type": "stream",
     "text": [
      "Started callback server.\n",
      "Iodrien37 auto-authenticated. Compiling stream now... \n",
      "Getting 0 songs from: Ujico*/Snail's House\n",
      "Getting 0 songs from: Dimeboy HQ\n",
      "Getting 0 songs from: Kygo\n",
      "Getting 0 songs from: Karisigurd\n",
      "Getting 10 songs from: completej\n",
      "Getting 0 songs from: Qristina & Quinn Bachand\n",
      "Getting 4 songs from: Waysons\n",
      "Getting 0 songs from: Vena Cava\n",
      "Getting 0 songs from: Jordan Kelvin James\n",
      "Getting 0 songs from: Sqeepo\n",
      "Getting 10 songs from: Noxive\n",
      "Getting 2 songs from: Hinkik\n",
      "Getting 0 songs from: Panda Eyes\n",
      "Getting 0 songs from: ctrl+r\n",
      "Getting 0 songs from: VANIC Official\n",
      "Getting 0 songs from: Glimpse\n",
      "Getting 0 songs from: Jim Yosef\n",
      "Getting 0 songs from: Disco's Over\n",
      "Getting 0 songs from: Vague Wave\n",
      "Getting 0 songs from: Hypeddit\n",
      "Getting 0 songs from: Pegboard Nerds\n",
      "Getting 0 songs from: Teminite\n",
      "Getting 1 songs from: halvorsen\n",
      "Getting 0 songs from: DIGITAL  WHOMP\n",
      "Getting 0 songs from: HUNT the TRUTH\n",
      "Getting 0 songs from: MidTempo\n",
      "Getting 8 songs from: TARPEY\n",
      "Getting 0 songs from: stahl!\n",
      "Getting 0 songs from: Alex Skrindo\n",
      "Getting 0 songs from: Tenshi\n",
      "Getting 0 songs from: Different Heaven\n",
      "Getting 0 songs from: coyote kisses\n",
      "Getting 0 songs from: ChristianBaczyk\n",
      "Getting 0 songs from: Brenton Mattheus\n",
      "Getting 0 songs from: Protostar\n",
      "Getting 0 songs from: Goran Dragaš\n",
      "Getting 1 songs from: ELXR\n",
      "Getting 0 songs from: Vanze\n",
      "Getting 0 songs from: Izzard.\n",
      "Getting 0 songs from: Hypeddit Electro\n",
      "Getting 0 songs from: DEAD BATTERY\n",
      "Getting 0 songs from: Fat Wreck Chords\n",
      "Getting 0 songs from: Soda Island\n",
      "Getting 0 songs from: MUS!C PRΞÐΔTΘRS.\n",
      "Getting 0 songs from: Jarvis Parkes\n",
      "Getting 0 songs from: kellyandrew\n",
      "Getting 0 songs from: EDEN\n",
      "Getting 0 songs from: WeeStudio\n",
      "Getting 0 songs from: Hypeddit House\n",
      "Getting 0 songs from: Distrion\n",
      "Looked through 444 songs.\n"
     ]
    },
    {
     "data": {
      "text/html": [
       "<iframe width=\"100%\" height=\"400\" scrolling=\"no\" frameborder=\"no\" src=\"https://w.soundcloud.com/player/?visual=true&url=https%3A%2F%2Fapi.soundcloud.com%2Fplaylists%2F181826018&show_artwork=true&oauth_token=1-171052-71368967-438959e53e07af&maxheight=400&auto_play=True\"></iframe>"
      ],
      "text/plain": [
       "<IPython.core.display.HTML object>"
      ]
     },
     "metadata": {},
     "output_type": "display_data"
    }
   ],
   "source": [
    "print(\"Started callback server.\")\n",
    "promptAuth()\n",
    "doAll()"
   ]
  },
  {
   "cell_type": "code",
   "execution_count": null,
   "metadata": {
    "collapsed": false
   },
   "outputs": [],
   "source": []
  },
  {
   "cell_type": "code",
   "execution_count": null,
   "metadata": {
    "collapsed": false
   },
   "outputs": [],
   "source": []
  },
  {
   "cell_type": "code",
   "execution_count": null,
   "metadata": {
    "collapsed": false
   },
   "outputs": [],
   "source": []
  },
  {
   "cell_type": "code",
   "execution_count": null,
   "metadata": {
    "collapsed": false
   },
   "outputs": [],
   "source": []
  },
  {
   "cell_type": "code",
   "execution_count": null,
   "metadata": {
    "collapsed": true
   },
   "outputs": [],
   "source": []
  },
  {
   "cell_type": "code",
   "execution_count": null,
   "metadata": {
    "collapsed": true
   },
   "outputs": [],
   "source": []
  },
  {
   "cell_type": "code",
   "execution_count": null,
   "metadata": {
    "collapsed": false
   },
   "outputs": [],
   "source": []
  },
  {
   "cell_type": "code",
   "execution_count": null,
   "metadata": {
    "collapsed": false
   },
   "outputs": [],
   "source": []
  },
  {
   "cell_type": "code",
   "execution_count": null,
   "metadata": {
    "collapsed": true
   },
   "outputs": [],
   "source": []
  }
 ],
 "metadata": {
  "kernelspec": {
   "display_name": "Python 3",
   "language": "python",
   "name": "python3"
  },
  "language_info": {
   "codemirror_mode": {
    "name": "ipython",
    "version": 3
   },
   "file_extension": ".py",
   "mimetype": "text/x-python",
   "name": "python",
   "nbconvert_exporter": "python",
   "pygments_lexer": "ipython3",
   "version": "3.4.3"
  }
 },
 "nbformat": 4,
 "nbformat_minor": 0
}
